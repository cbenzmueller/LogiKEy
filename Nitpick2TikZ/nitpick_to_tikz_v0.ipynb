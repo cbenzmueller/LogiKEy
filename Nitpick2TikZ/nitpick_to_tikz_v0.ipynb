#!/usr/bin/env python3
import re
import sys

def main():
    # ——————————— A. PARSING Nitpick ———————————
    # Initialization
    n = None
    world_vals = []  # will become list of lists, one per world
    edges = []
    atom_names = []    # dynamic list of atom names, in order encountered
    initial_world = None     # will hold the 0-based index of the Skolem constant

    # Fixed filename
    fname = "nitpick-output.txt"
    lines = [L.strip() for L in open(fname, encoding="utf-8") if L.strip()]

    for line in lines:
        # 0) parse cardinality
        if n is None:
            m = re.match(r"Nitpick found a counterexample for card i\s*=\s*(\d+)", line)
            if m:
                n = int(m.group(1))
                continue

        # 1) detect initial world
        if initial_world is None:
            m = re.match(r"w\s*=\s*i⇩(\d+)", line)
            if m:
              initial_world = int(m.group(1)) - 1
              continue

        # 2) parse atom valuations dynamically
        m = re.match(r"(\w+)\s*=\s*\(λx.*?\)\((.*)\)", line)
        if m:
            atom, block = m.group(1), m.group(2)
            if atom not in atom_names:
                atom_names.append(atom)
                # extend rows if already created
                for row in world_vals:
                    row.append(False)
            slot = atom_names.index(atom)
            # initialize rows now that we know number of worlds
            if not world_vals:
                world_vals = [[False]*len(atom_names) for _ in range(n)]
            # fill truth values
            for mm in re.finditer(r"i⇩(\d+)\s*:?=\s*(True|False)", block):
                idx = int(mm.group(1)) - 1
                world_vals[idx][slot] = (mm.group(2) == "True")
            continue

        # 3) parse edges
        for mm in re.finditer(r"\(i⇩(\d+),\s*i⇩(\d+)\)\s*:?=\s*(True|False)", line):
            a = int(mm.group(1)) - 1
            b = int(mm.group(2)) - 1
            tf = (mm.group(3) == "True")
            if tf:
                edges.append((a, b))

    # sanity
    if n is None or initial_world is None or world_vals is None:
        sys.exit("Error: parsing failed.")

    # separate self-loops
    self_loops = [(a,b) for (a,b) in edges if a == b]
    edges = [(a,b) for (a,b) in edges if a != b]


      # ——————————— B. GENERATING TikZ graph ———————————
    print(r"\begin{tikzpicture}")
    print(r"  \graph["
          "spring electrical layout,"
          "node distance=20mm,"
          "spring constant=0.5,"
          "electric charge=1,"
          "cooling factor=0.5,"
          "convergence tolerance=1e-5,"
          "nodes=world"
          "] {")

    defined = set()
    # dynamic label function
    def label(i):
        parts = []
        for atom, val in zip(atom_names, world_vals[i]):
            atom_tex = atom.replace('_','\\_')
            parts.append(atom_tex if val else r"\neg " + atom_tex)
        return f"$w_{i}:{', '.join(parts)}$"

    # group edges by source
    by_src = {}
    for a, b in edges:
        by_src.setdefault(a, []).append(b)

    # process source 0
    succ0 = by_src.get(0, [])
    line = f"\tw0/\"{label(0)}\" -> {{"
    defined.add(0)
    for t in succ0:
        if t not in defined:
            line += f" w{t}/\"{label(t)}\","
            defined.add(t)
        else:
            line += f" w{t},"
    line = line.rstrip(',') + ' };'
    print("    " + line)

    # process other sources
    for src in range(1, n):
        succ = by_src.get(src, [])
        if not succ:
            continue
        prefix = f"w{src}"
        if src not in defined:
            line = f"{prefix}/\"{label(src)}\" -> "
            defined.add(src)
        else:
            line = f"{prefix} -> "
        if len(succ) > 1:
            line += '{ '
            for t in succ:
                if t not in defined:
                    line += f" w{t}/\"{label(t)}\","
                    defined.add(t)
                else:
                    line += f" w{t},"
            line = line.rstrip(',') + ' };'
        else:
            t = succ[0]
            if t not in defined:
                line += f"w{t}/\"{label(t)}\";"
                defined.add(t)
            else:
                line += f"w{t};"
        print("    " + line)

    print(r"  };" )

    # self loops (drawn separately)
    print(r"% self loops")
    for a,b in self_loops:
        print(f"\path[->,loop above,looseness=8] (w{a}) edge (w{b});")

    # initial state (drawn separately)
    print("% initial state")
    # place a small “start” label to the left of the initial world
    print(rf"\node[draw=none,left=of w{initial_world},xshift=-5mm] (init) {{\small start}};")
    print(rf"\draw[->,thick] (init) -- (w{initial_world});")

    print(r"\end{tikzpicture}")

    print()
    print(n)
    print(atom_names)
    print(world_vals)
    print(edges)
    print(self_loops)
    print(label(0))
    print("init ", initial_world)

if __name__ == "__main__":
    main()
